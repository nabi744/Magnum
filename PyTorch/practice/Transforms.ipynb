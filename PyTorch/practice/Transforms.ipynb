{
 "cells": [
  {
   "metadata": {},
   "cell_type": "markdown",
   "source": "# Transforms",
   "id": "ae26c58a5c113835"
  },
  {
   "metadata": {},
   "cell_type": "markdown",
   "source": [
    "There is a need for **transforms** so that the data is suitable for training the model.\n",
    "\n",
    "Parameters of Torchvision datasets:\n",
    "- `transform` : to modify the features\n",
    "- `target_transform` : to modify the labels\n",
    "\n",
    "For example, FashionMNIST features are in PIL image format and the labels are integers. For training, we need the features as normalized tensors and the labels as one-hot encoded tensors."
   ],
   "id": "facd766d35974758"
  },
  {
   "metadata": {
    "ExecuteTime": {
     "end_time": "2024-08-24T18:18:08.945501Z",
     "start_time": "2024-08-24T18:18:00.209156Z"
    }
   },
   "cell_type": "code",
   "source": [
    "import torch\n",
    "from torchvision import datasets\n",
    "from torchvision.transforms import ToTensor, Lambda\n",
    "\n",
    "ds = datasets.FashionMNIST(\n",
    "    root=\"data\",\n",
    "    train=True,\n",
    "    download=False,\n",
    "    transform=ToTensor(),\n",
    "    target_transform=Lambda(lambda y: torch.zeros(10, dtype = torch.float).scatter_(0, torch.tensor(y), value=1))\n",
    ")"
   ],
   "id": "35f535c44b4a28b7",
   "outputs": [],
   "execution_count": 1
  },
  {
   "metadata": {},
   "cell_type": "markdown",
   "source": "## `ToTensor()`",
   "id": "db790b41c57ade9c"
  },
  {
   "metadata": {},
   "cell_type": "markdown",
   "source": "`ToTensor()` converts a PIL image or NumPy `ndarray` into a `FloatTensor` and scales the image's pixel intensity values in the range [0., 1.]",
   "id": "9842d6c13fd0aa3f"
  },
  {
   "metadata": {},
   "cell_type": "markdown",
   "source": "## Lambda Transforms",
   "id": "f59dfc9521ea7463"
  },
  {
   "metadata": {},
   "cell_type": "markdown",
   "source": "Lambda transforms apply any user-defined lambda function. Here, we define a function to turn the integer into a one-hot encoded tensor. It first creates a zero tensor of size 10 (the number of labels in FashionMNIST) and calls `scatter_` which assigns a `value=1` on the index as given by the label `y`.",
   "id": "4d3d664929eac98a"
  }
 ],
 "metadata": {
  "kernelspec": {
   "display_name": "Python 3",
   "language": "python",
   "name": "python3"
  },
  "language_info": {
   "codemirror_mode": {
    "name": "ipython",
    "version": 2
   },
   "file_extension": ".py",
   "mimetype": "text/x-python",
   "name": "python",
   "nbconvert_exporter": "python",
   "pygments_lexer": "ipython2",
   "version": "2.7.6"
  }
 },
 "nbformat": 4,
 "nbformat_minor": 5
}
