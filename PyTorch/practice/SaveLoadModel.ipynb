{
 "cells": [
  {
   "metadata": {},
   "cell_type": "markdown",
   "source": "# Save and Load Model",
   "id": "1f7063b0ea9281a0"
  },
  {
   "metadata": {},
   "cell_type": "markdown",
   "source": "Let's learn how to save and load models in PyTorch.",
   "id": "3e61962816002b7"
  },
  {
   "metadata": {
    "ExecuteTime": {
     "end_time": "2024-08-25T13:37:54.860050Z",
     "start_time": "2024-08-25T13:37:45.724786Z"
    }
   },
   "cell_type": "code",
   "source": [
    "import torch\n",
    "import torchvision.models as models"
   ],
   "id": "abc4853f05f574b4",
   "outputs": [],
   "execution_count": 1
  },
  {
   "metadata": {},
   "cell_type": "markdown",
   "source": "## Saving and Loading Model Weights",
   "id": "b11fe9b4a560ea6"
  },
  {
   "metadata": {},
   "cell_type": "markdown",
   "source": "PyTorch models store their learned parameters in a model's `state_dict`.",
   "id": "a9fe24df6eae2550"
  },
  {
   "metadata": {},
   "cell_type": "markdown",
   "source": "### Save",
   "id": "2274486f75ca778b"
  },
  {
   "metadata": {},
   "cell_type": "markdown",
   "source": "Use `torch.save` to save a model's `state_dict`.",
   "id": "2d4a8b79cad4395"
  },
  {
   "metadata": {
    "ExecuteTime": {
     "end_time": "2024-08-25T13:40:55.901891Z",
     "start_time": "2024-08-25T13:40:39.647907Z"
    }
   },
   "cell_type": "code",
   "source": [
    "model = models.vgg16(weights='IMAGENET1K_V1')\n",
    "torch.save(model.state_dict(), 'model_weights.pth')"
   ],
   "id": "ac307da0e5c2569b",
   "outputs": [
    {
     "name": "stderr",
     "output_type": "stream",
     "text": [
      "Downloading: \"https://download.pytorch.org/models/vgg16-397923af.pth\" to C:\\Users\\johnj/.cache\\torch\\hub\\checkpoints\\vgg16-397923af.pth\n",
      "100%|██████████| 528M/528M [00:10<00:00, 53.4MB/s] \n"
     ]
    }
   ],
   "execution_count": 2
  },
  {
   "metadata": {},
   "cell_type": "markdown",
   "source": "### Load",
   "id": "7a6ec5c8d977c501"
  },
  {
   "metadata": {},
   "cell_type": "markdown",
   "source": [
    "Use `torch.load_state_dict` to load a model's `state_dict`.\n",
    "\n",
    "We should call `model.eval()` before inference to set the model to evaluation mode."
   ],
   "id": "167c88b3ebc1dae8"
  },
  {
   "metadata": {
    "ExecuteTime": {
     "end_time": "2024-08-25T13:41:59.278483Z",
     "start_time": "2024-08-25T13:41:58.259934Z"
    }
   },
   "cell_type": "code",
   "source": [
    "model = models.vgg16()\n",
    "model.load_state_dict(torch.load('model_weights.pth'))\n",
    "model.eval()"
   ],
   "id": "97d400bf6ac9eca4",
   "outputs": [
    {
     "name": "stderr",
     "output_type": "stream",
     "text": [
      "C:\\Users\\johnj\\AppData\\Local\\Temp\\ipykernel_16892\\847308638.py:2: FutureWarning: You are using `torch.load` with `weights_only=False` (the current default value), which uses the default pickle module implicitly. It is possible to construct malicious pickle data which will execute arbitrary code during unpickling (See https://github.com/pytorch/pytorch/blob/main/SECURITY.md#untrusted-models for more details). In a future release, the default value for `weights_only` will be flipped to `True`. This limits the functions that could be executed during unpickling. Arbitrary objects will no longer be allowed to be loaded via this mode unless they are explicitly allowlisted by the user via `torch.serialization.add_safe_globals`. We recommend you start setting `weights_only=True` for any use case where you don't have full control of the loaded file. Please open an issue on GitHub for any issues related to this experimental feature.\n",
      "  model.load_state_dict(torch.load('model_weights.pth'))\n"
     ]
    },
    {
     "data": {
      "text/plain": [
       "VGG(\n",
       "  (features): Sequential(\n",
       "    (0): Conv2d(3, 64, kernel_size=(3, 3), stride=(1, 1), padding=(1, 1))\n",
       "    (1): ReLU(inplace=True)\n",
       "    (2): Conv2d(64, 64, kernel_size=(3, 3), stride=(1, 1), padding=(1, 1))\n",
       "    (3): ReLU(inplace=True)\n",
       "    (4): MaxPool2d(kernel_size=2, stride=2, padding=0, dilation=1, ceil_mode=False)\n",
       "    (5): Conv2d(64, 128, kernel_size=(3, 3), stride=(1, 1), padding=(1, 1))\n",
       "    (6): ReLU(inplace=True)\n",
       "    (7): Conv2d(128, 128, kernel_size=(3, 3), stride=(1, 1), padding=(1, 1))\n",
       "    (8): ReLU(inplace=True)\n",
       "    (9): MaxPool2d(kernel_size=2, stride=2, padding=0, dilation=1, ceil_mode=False)\n",
       "    (10): Conv2d(128, 256, kernel_size=(3, 3), stride=(1, 1), padding=(1, 1))\n",
       "    (11): ReLU(inplace=True)\n",
       "    (12): Conv2d(256, 256, kernel_size=(3, 3), stride=(1, 1), padding=(1, 1))\n",
       "    (13): ReLU(inplace=True)\n",
       "    (14): Conv2d(256, 256, kernel_size=(3, 3), stride=(1, 1), padding=(1, 1))\n",
       "    (15): ReLU(inplace=True)\n",
       "    (16): MaxPool2d(kernel_size=2, stride=2, padding=0, dilation=1, ceil_mode=False)\n",
       "    (17): Conv2d(256, 512, kernel_size=(3, 3), stride=(1, 1), padding=(1, 1))\n",
       "    (18): ReLU(inplace=True)\n",
       "    (19): Conv2d(512, 512, kernel_size=(3, 3), stride=(1, 1), padding=(1, 1))\n",
       "    (20): ReLU(inplace=True)\n",
       "    (21): Conv2d(512, 512, kernel_size=(3, 3), stride=(1, 1), padding=(1, 1))\n",
       "    (22): ReLU(inplace=True)\n",
       "    (23): MaxPool2d(kernel_size=2, stride=2, padding=0, dilation=1, ceil_mode=False)\n",
       "    (24): Conv2d(512, 512, kernel_size=(3, 3), stride=(1, 1), padding=(1, 1))\n",
       "    (25): ReLU(inplace=True)\n",
       "    (26): Conv2d(512, 512, kernel_size=(3, 3), stride=(1, 1), padding=(1, 1))\n",
       "    (27): ReLU(inplace=True)\n",
       "    (28): Conv2d(512, 512, kernel_size=(3, 3), stride=(1, 1), padding=(1, 1))\n",
       "    (29): ReLU(inplace=True)\n",
       "    (30): MaxPool2d(kernel_size=2, stride=2, padding=0, dilation=1, ceil_mode=False)\n",
       "  )\n",
       "  (avgpool): AdaptiveAvgPool2d(output_size=(7, 7))\n",
       "  (classifier): Sequential(\n",
       "    (0): Linear(in_features=25088, out_features=4096, bias=True)\n",
       "    (1): ReLU(inplace=True)\n",
       "    (2): Dropout(p=0.5, inplace=False)\n",
       "    (3): Linear(in_features=4096, out_features=4096, bias=True)\n",
       "    (4): ReLU(inplace=True)\n",
       "    (5): Dropout(p=0.5, inplace=False)\n",
       "    (6): Linear(in_features=4096, out_features=1000, bias=True)\n",
       "  )\n",
       ")"
      ]
     },
     "execution_count": 3,
     "metadata": {},
     "output_type": "execute_result"
    }
   ],
   "execution_count": 3
  },
  {
   "metadata": {},
   "cell_type": "markdown",
   "source": "## Saving and Loading Models with Shapes",
   "id": "2a98fa86dc78cf6"
  },
  {
   "metadata": {},
   "cell_type": "markdown",
   "source": "When loading the model's weights, we also need to instantiate the model first. Since the model class includes the architecture, we need to instantiate the model first before loading the weights.",
   "id": "9ba9c02b2edec1fa"
  },
  {
   "metadata": {},
   "cell_type": "markdown",
   "source": "### Save",
   "id": "e6227ccabd0ce62a"
  },
  {
   "metadata": {
    "ExecuteTime": {
     "end_time": "2024-08-25T13:44:40.869576Z",
     "start_time": "2024-08-25T13:44:40.381001Z"
    }
   },
   "cell_type": "code",
   "source": "torch.save(model, 'model.pth')",
   "id": "2f2031b576bd4a04",
   "outputs": [],
   "execution_count": 4
  },
  {
   "metadata": {},
   "cell_type": "markdown",
   "source": "### Load",
   "id": "c348908a52dba586"
  },
  {
   "metadata": {
    "ExecuteTime": {
     "end_time": "2024-08-25T13:44:46.243331Z",
     "start_time": "2024-08-25T13:44:46.119734Z"
    }
   },
   "cell_type": "code",
   "source": "model = torch.load('model.pth')",
   "id": "a654a508e92e72b",
   "outputs": [
    {
     "name": "stderr",
     "output_type": "stream",
     "text": [
      "C:\\Users\\johnj\\AppData\\Local\\Temp\\ipykernel_16892\\2002706324.py:1: FutureWarning: You are using `torch.load` with `weights_only=False` (the current default value), which uses the default pickle module implicitly. It is possible to construct malicious pickle data which will execute arbitrary code during unpickling (See https://github.com/pytorch/pytorch/blob/main/SECURITY.md#untrusted-models for more details). In a future release, the default value for `weights_only` will be flipped to `True`. This limits the functions that could be executed during unpickling. Arbitrary objects will no longer be allowed to be loaded via this mode unless they are explicitly allowlisted by the user via `torch.serialization.add_safe_globals`. We recommend you start setting `weights_only=True` for any use case where you don't have full control of the loaded file. Please open an issue on GitHub for any issues related to this experimental feature.\n",
      "  model = torch.load('model.pth')\n"
     ]
    }
   ],
   "execution_count": 5
  }
 ],
 "metadata": {
  "kernelspec": {
   "display_name": "Python 3",
   "language": "python",
   "name": "python3"
  },
  "language_info": {
   "codemirror_mode": {
    "name": "ipython",
    "version": 2
   },
   "file_extension": ".py",
   "mimetype": "text/x-python",
   "name": "python",
   "nbconvert_exporter": "python",
   "pygments_lexer": "ipython2",
   "version": "2.7.6"
  }
 },
 "nbformat": 4,
 "nbformat_minor": 5
}
