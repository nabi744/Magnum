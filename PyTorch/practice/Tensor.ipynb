{
 "cells": [
  {
   "metadata": {},
   "cell_type": "markdown",
   "source": "# Tensors",
   "id": "7d100b8abfd1881b"
  },
  {
   "cell_type": "code",
   "id": "initial_id",
   "metadata": {
    "collapsed": true,
    "ExecuteTime": {
     "end_time": "2024-08-21T14:33:58.571023Z",
     "start_time": "2024-08-21T14:33:58.567723Z"
    }
   },
   "source": [
    "import torch\n",
    "import numpy as np"
   ],
   "outputs": [],
   "execution_count": 28
  },
  {
   "metadata": {},
   "cell_type": "markdown",
   "source": "## Intialize Tensor",
   "id": "a0e16e5e465aead8"
  },
  {
   "metadata": {},
   "cell_type": "markdown",
   "source": "### Data to Tensor",
   "id": "4e1ba9e9c05939ac"
  },
  {
   "metadata": {
    "ExecuteTime": {
     "end_time": "2024-08-21T14:33:58.611847Z",
     "start_time": "2024-08-21T14:33:58.607794Z"
    }
   },
   "cell_type": "code",
   "source": [
    "data=[[1,2],[3,4]]\n",
    "x_data=torch.tensor(data)\n",
    "print(x_data)"
   ],
   "id": "426088ebd934bcd7",
   "outputs": [
    {
     "name": "stdout",
     "output_type": "stream",
     "text": [
      "tensor([[1, 2],\n",
      "        [3, 4]])\n"
     ]
    }
   ],
   "execution_count": 29
  },
  {
   "metadata": {},
   "cell_type": "markdown",
   "source": "### NumPy array to Tensor",
   "id": "65658532eeb581bc"
  },
  {
   "metadata": {
    "ExecuteTime": {
     "end_time": "2024-08-21T14:33:58.639518Z",
     "start_time": "2024-08-21T14:33:58.634091Z"
    }
   },
   "cell_type": "code",
   "source": [
    "np_array=np.array(data)\n",
    "x_np=torch.from_numpy(np_array)\n",
    "print(x_np)"
   ],
   "id": "c9201babbc20ab03",
   "outputs": [
    {
     "name": "stdout",
     "output_type": "stream",
     "text": [
      "tensor([[1, 2],\n",
      "        [3, 4]], dtype=torch.int32)\n"
     ]
    }
   ],
   "execution_count": 30
  },
  {
   "metadata": {},
   "cell_type": "markdown",
   "source": "### Tensor to Tensor",
   "id": "8b11ad6a67543108"
  },
  {
   "metadata": {},
   "cell_type": "markdown",
   "source": "If you create a new tensor based on another tensor, the new tensor will retain the properties (shape, datatype) of the original tensor. However, they could be changed by overriding the properties.",
   "id": "efff25cdaeb06dd1"
  },
  {
   "metadata": {
    "ExecuteTime": {
     "end_time": "2024-08-21T14:33:58.666802Z",
     "start_time": "2024-08-21T14:33:58.663908Z"
    }
   },
   "cell_type": "code",
   "source": [
    "x_ones=torch.ones_like(x_data)\n",
    "print(x_ones)"
   ],
   "id": "f83baca912e5391d",
   "outputs": [
    {
     "name": "stdout",
     "output_type": "stream",
     "text": [
      "tensor([[1, 1],\n",
      "        [1, 1]])\n"
     ]
    }
   ],
   "execution_count": 31
  },
  {
   "metadata": {
    "ExecuteTime": {
     "end_time": "2024-08-21T14:33:58.700046Z",
     "start_time": "2024-08-21T14:33:58.696797Z"
    }
   },
   "cell_type": "code",
   "source": [
    "x_rand=torch.rand_like(x_data,dtype=torch.float) # override the datatype\n",
    "print(x_rand)"
   ],
   "id": "6ff8c9c162296c4b",
   "outputs": [
    {
     "name": "stdout",
     "output_type": "stream",
     "text": [
      "tensor([[0.0303, 0.9029],\n",
      "        [0.9559, 0.3212]])\n"
     ]
    }
   ],
   "execution_count": 32
  },
  {
   "metadata": {},
   "cell_type": "markdown",
   "source": "### Random or Constant value",
   "id": "c1943d755fbb4c4d"
  },
  {
   "metadata": {},
   "cell_type": "markdown",
   "source": "By using `shape` parameter, you can create a tensor with the shape and value you want.",
   "id": "829012eda709676c"
  },
  {
   "metadata": {
    "ExecuteTime": {
     "end_time": "2024-08-21T14:33:58.719552Z",
     "start_time": "2024-08-21T14:33:58.716655Z"
    }
   },
   "cell_type": "code",
   "source": "shape=(2,3,)",
   "id": "d10df7fdba5a8b34",
   "outputs": [],
   "execution_count": 33
  },
  {
   "metadata": {
    "ExecuteTime": {
     "end_time": "2024-08-21T14:33:58.751820Z",
     "start_time": "2024-08-21T14:33:58.747730Z"
    }
   },
   "cell_type": "code",
   "source": [
    "rand_tensor=torch.rand(shape)\n",
    "print(rand_tensor)"
   ],
   "id": "7bca8e49a8c76704",
   "outputs": [
    {
     "name": "stdout",
     "output_type": "stream",
     "text": [
      "tensor([[0.9750, 0.7265, 0.9396],\n",
      "        [0.7254, 0.0062, 0.3218]])\n"
     ]
    }
   ],
   "execution_count": 34
  },
  {
   "metadata": {
    "ExecuteTime": {
     "end_time": "2024-08-21T14:33:58.774160Z",
     "start_time": "2024-08-21T14:33:58.770620Z"
    }
   },
   "cell_type": "code",
   "source": [
    "ones_tensor=torch.ones(shape)\n",
    "print(ones_tensor)"
   ],
   "id": "e9c8c3a8aecc44fe",
   "outputs": [
    {
     "name": "stdout",
     "output_type": "stream",
     "text": [
      "tensor([[1., 1., 1.],\n",
      "        [1., 1., 1.]])\n"
     ]
    }
   ],
   "execution_count": 35
  },
  {
   "metadata": {
    "ExecuteTime": {
     "end_time": "2024-08-21T14:33:58.801614Z",
     "start_time": "2024-08-21T14:33:58.797927Z"
    }
   },
   "cell_type": "code",
   "source": [
    "zeros_tensor=torch.zeros(shape)\n",
    "print(zeros_tensor)"
   ],
   "id": "bf8a6e2950095553",
   "outputs": [
    {
     "name": "stdout",
     "output_type": "stream",
     "text": [
      "tensor([[0., 0., 0.],\n",
      "        [0., 0., 0.]])\n"
     ]
    }
   ],
   "execution_count": 36
  },
  {
   "metadata": {},
   "cell_type": "markdown",
   "source": "## Attributes of a Tensor",
   "id": "29ef5844f6642dbd"
  },
  {
   "metadata": {},
   "cell_type": "markdown",
   "source": [
    "Tensor attributes are:\n",
    "- shape\n",
    "- datatype\n",
    "- device"
   ],
   "id": "74aafb4b690b27ab"
  },
  {
   "metadata": {
    "ExecuteTime": {
     "end_time": "2024-08-21T14:33:58.967057Z",
     "start_time": "2024-08-21T14:33:58.961553Z"
    }
   },
   "cell_type": "code",
   "source": [
    "tensor=torch.rand(3,4)\n",
    "print(f\"Shape of tensor: {tensor.shape}\")\n",
    "print(f\"Datatype of tensor: {tensor.dtype}\")\n",
    "print(f\"Device tensor is stored on: {tensor.device}\")"
   ],
   "id": "bd420797b05d582",
   "outputs": [
    {
     "name": "stdout",
     "output_type": "stream",
     "text": [
      "Shape of tensor: torch.Size([3, 4])\n",
      "Datatype of tensor: torch.float32\n",
      "Device tensor is stored on: cpu\n"
     ]
    }
   ],
   "execution_count": 37
  },
  {
   "metadata": {},
   "cell_type": "markdown",
   "source": "## Operations on Tensors",
   "id": "950a045f9ea18c79"
  },
  {
   "metadata": {},
   "cell_type": "markdown",
   "source": [
    "Operations on tensors are similar to NumPy arrays.\n",
    "Operations are faster when using GPU(cuda)."
   ],
   "id": "8540986066dd35d8"
  },
  {
   "metadata": {
    "ExecuteTime": {
     "end_time": "2024-08-21T14:33:59.091851Z",
     "start_time": "2024-08-21T14:33:59.087877Z"
    }
   },
   "cell_type": "code",
   "source": [
    "# Use cuda to speed up the operations\n",
    "if torch.cuda.is_available():\n",
    "    tensor=tensor.to('cuda')\n",
    "    print(f\"Device tensor is stored on: {tensor.device}\")"
   ],
   "id": "77b23bc115842d0d",
   "outputs": [
    {
     "name": "stdout",
     "output_type": "stream",
     "text": [
      "Device tensor is stored on: cuda:0\n"
     ]
    }
   ],
   "execution_count": 38
  },
  {
   "metadata": {},
   "cell_type": "markdown",
   "source": "### indexing and slicing",
   "id": "ab72dabd43057a08"
  },
  {
   "metadata": {
    "ExecuteTime": {
     "end_time": "2024-08-21T15:27:43.352226Z",
     "start_time": "2024-08-21T15:27:43.348622Z"
    }
   },
   "cell_type": "code",
   "source": [
    "tensor=torch.ones(4,4)\n",
    "tensor[:,1]=0\n",
    "tensor[1][2]=3\n",
    "print(tensor)"
   ],
   "id": "cbb374de10235bd9",
   "outputs": [
    {
     "name": "stdout",
     "output_type": "stream",
     "text": [
      "tensor([[1., 0., 1., 1.],\n",
      "        [1., 0., 3., 1.],\n",
      "        [1., 0., 1., 1.],\n",
      "        [1., 0., 1., 1.]])\n"
     ]
    }
   ],
   "execution_count": 53
  },
  {
   "metadata": {},
   "cell_type": "markdown",
   "source": "### concatenate tensors",
   "id": "28b9c048c61d75a6"
  },
  {
   "metadata": {},
   "cell_type": "markdown",
   "source": "We can concatenate a sequence of tensors by using `torch.cat`.",
   "id": "e362dc6f3277ab24"
  },
  {
   "metadata": {
    "ExecuteTime": {
     "end_time": "2024-08-21T15:18:11.330511Z",
     "start_time": "2024-08-21T15:18:11.325657Z"
    }
   },
   "cell_type": "code",
   "source": [
    "tensor1=torch.tensor([[1,2,3],\n",
    "                      [2,3,4],\n",
    "                      [3,4,5]])\n",
    "tensor2=torch.tensor([[[1,2,3],\n",
    "                       [2,3,4],\n",
    "                       [3,4,5]],\n",
    "                      [[2,3,4],\n",
    "                       [3,4,5],\n",
    "                       [4,5,6]],\n",
    "                      [[3,4,5],\n",
    "                       [4,5,6],\n",
    "                       [5,6,7]]])\n",
    "t1=torch.cat([tensor1,tensor2[:,-1]],dim=0)\n",
    "print(t1)\n",
    "t2=torch.cat([tensor1,tensor2[:,-1]],dim=1)\n",
    "print(t2)"
   ],
   "id": "585f3a3b60ffa471",
   "outputs": [
    {
     "name": "stdout",
     "output_type": "stream",
     "text": [
      "tensor([[1, 2, 3],\n",
      "        [2, 3, 4],\n",
      "        [3, 4, 5],\n",
      "        [3, 4, 5],\n",
      "        [4, 5, 6],\n",
      "        [5, 6, 7]])\n",
      "tensor([[1, 2, 3, 3, 4, 5],\n",
      "        [2, 3, 4, 4, 5, 6],\n",
      "        [3, 4, 5, 5, 6, 7]])\n"
     ]
    }
   ],
   "execution_count": 51
  },
  {
   "metadata": {},
   "cell_type": "markdown",
   "source": "### Arithmetic operations",
   "id": "91e6daa6fede3bfe"
  },
  {
   "metadata": {},
   "cell_type": "markdown",
   "source": [
    "We can perform arithmetic operations on tensors.\n",
    "For example, matrix multiplication, element-wise multiplication, etc."
   ],
   "id": "bbc755ad2ab39807"
  },
  {
   "metadata": {},
   "cell_type": "markdown",
   "source": "#### Matrix Multiplication",
   "id": "d32d724118e3fad0"
  },
  {
   "metadata": {
    "ExecuteTime": {
     "end_time": "2024-08-21T15:30:26.832979Z",
     "start_time": "2024-08-21T15:30:26.829676Z"
    }
   },
   "cell_type": "code",
   "source": [
    "y1 = tensor @ tensor.T # @ is used for matrix multiplication and T is used for transpose\n",
    "print(y1)"
   ],
   "id": "67d85691e6e86a6d",
   "outputs": [
    {
     "name": "stdout",
     "output_type": "stream",
     "text": [
      "tensor([[ 3.,  5.,  3.,  3.],\n",
      "        [ 5., 11.,  5.,  5.],\n",
      "        [ 3.,  5.,  3.,  3.],\n",
      "        [ 3.,  5.,  3.,  3.]])\n"
     ]
    }
   ],
   "execution_count": 58
  },
  {
   "metadata": {
    "ExecuteTime": {
     "end_time": "2024-08-21T15:30:30.295026Z",
     "start_time": "2024-08-21T15:30:30.291500Z"
    }
   },
   "cell_type": "code",
   "source": [
    "y2 = tensor.matmul(tensor.T)\n",
    "print(y2)"
   ],
   "id": "ea64ffba7398b694",
   "outputs": [
    {
     "name": "stdout",
     "output_type": "stream",
     "text": [
      "tensor([[ 3.,  5.,  3.,  3.],\n",
      "        [ 5., 11.,  5.,  5.],\n",
      "        [ 3.,  5.,  3.,  3.],\n",
      "        [ 3.,  5.,  3.,  3.]])\n"
     ]
    }
   ],
   "execution_count": 59
  },
  {
   "metadata": {
    "ExecuteTime": {
     "end_time": "2024-08-21T15:29:55.445611Z",
     "start_time": "2024-08-21T15:29:55.439216Z"
    }
   },
   "cell_type": "code",
   "source": [
    "y3 = torch.zeros_like(tensor)\n",
    "torch.matmul(tensor, tensor.T, out=y3) # we can provide the output tensor\n",
    "print(y3)"
   ],
   "id": "8fc69278e424de13",
   "outputs": [
    {
     "name": "stdout",
     "output_type": "stream",
     "text": [
      "tensor([[ 3.,  5.,  3.,  3.],\n",
      "        [ 5., 11.,  5.,  5.],\n",
      "        [ 3.,  5.,  3.,  3.],\n",
      "        [ 3.,  5.,  3.,  3.]])\n"
     ]
    }
   ],
   "execution_count": 57
  },
  {
   "metadata": {},
   "cell_type": "markdown",
   "source": "#### Element-wise product",
   "id": "6859355267d9ee9f"
  },
  {
   "metadata": {
    "ExecuteTime": {
     "end_time": "2024-08-21T15:31:30.579100Z",
     "start_time": "2024-08-21T15:31:30.575017Z"
    }
   },
   "cell_type": "code",
   "source": [
    "z1 = tensor * tensor\n",
    "print(z1)"
   ],
   "id": "5c56be5b2516ad92",
   "outputs": [
    {
     "name": "stdout",
     "output_type": "stream",
     "text": [
      "tensor([[1., 0., 1., 1.],\n",
      "        [1., 0., 9., 1.],\n",
      "        [1., 0., 1., 1.],\n",
      "        [1., 0., 1., 1.]])\n"
     ]
    }
   ],
   "execution_count": 60
  },
  {
   "metadata": {
    "ExecuteTime": {
     "end_time": "2024-08-21T15:31:44.150648Z",
     "start_time": "2024-08-21T15:31:44.146124Z"
    }
   },
   "cell_type": "code",
   "source": [
    "z2 = tensor.mul(tensor)\n",
    "print(z2)"
   ],
   "id": "7466b6149fd58770",
   "outputs": [
    {
     "name": "stdout",
     "output_type": "stream",
     "text": [
      "tensor([[1., 0., 1., 1.],\n",
      "        [1., 0., 9., 1.],\n",
      "        [1., 0., 1., 1.],\n",
      "        [1., 0., 1., 1.]])\n"
     ]
    }
   ],
   "execution_count": 61
  },
  {
   "metadata": {
    "ExecuteTime": {
     "end_time": "2024-08-21T15:31:47.868767Z",
     "start_time": "2024-08-21T15:31:47.860750Z"
    }
   },
   "cell_type": "code",
   "source": [
    "z3 = torch.zeros_like(tensor)\n",
    "torch.mul(tensor, tensor, out=z3)"
   ],
   "id": "229b96381232c75b",
   "outputs": [
    {
     "data": {
      "text/plain": [
       "tensor([[1., 0., 1., 1.],\n",
       "        [1., 0., 9., 1.],\n",
       "        [1., 0., 1., 1.],\n",
       "        [1., 0., 1., 1.]])"
      ]
     },
     "execution_count": 62,
     "metadata": {},
     "output_type": "execute_result"
    }
   ],
   "execution_count": 62
  },
  {
   "metadata": {},
   "cell_type": "markdown",
   "source": "### Single-element tensors",
   "id": "192f35990732f164"
  },
  {
   "metadata": {},
   "cell_type": "markdown",
   "source": "We can itemize a single element tensor to Python numerical value by using `item()`.",
   "id": "36fbf44e9b5efe21"
  },
  {
   "metadata": {
    "ExecuteTime": {
     "end_time": "2024-08-21T15:33:05.902395Z",
     "start_time": "2024-08-21T15:33:05.899027Z"
    }
   },
   "cell_type": "code",
   "source": [
    "agg=tensor.sum()\n",
    "print(agg)"
   ],
   "id": "daba502f25108a9d",
   "outputs": [
    {
     "name": "stdout",
     "output_type": "stream",
     "text": [
      "tensor(14.)\n"
     ]
    }
   ],
   "execution_count": 65
  },
  {
   "metadata": {
    "ExecuteTime": {
     "end_time": "2024-08-21T15:33:13.886743Z",
     "start_time": "2024-08-21T15:33:13.882234Z"
    }
   },
   "cell_type": "code",
   "source": [
    "agg_item=agg.item()\n",
    "print(agg_item,type(agg_item))"
   ],
   "id": "31357ca5c147bed2",
   "outputs": [
    {
     "name": "stdout",
     "output_type": "stream",
     "text": [
      "14.0 <class 'float'>\n"
     ]
    }
   ],
   "execution_count": 66
  },
  {
   "metadata": {},
   "cell_type": "markdown",
   "source": "### In-place operations",
   "id": "5dada3ad695b7ed2"
  },
  {
   "metadata": {},
   "cell_type": "markdown",
   "source": "We can perform in-place operations by using `_` suffix.",
   "id": "45c46317e887460b"
  },
  {
   "metadata": {
    "ExecuteTime": {
     "end_time": "2024-08-21T15:33:40.056740Z",
     "start_time": "2024-08-21T15:33:40.053874Z"
    }
   },
   "cell_type": "code",
   "source": "print(tensor)",
   "id": "f8d66fe5e05e9684",
   "outputs": [
    {
     "name": "stdout",
     "output_type": "stream",
     "text": [
      "tensor([[1., 0., 1., 1.],\n",
      "        [1., 0., 3., 1.],\n",
      "        [1., 0., 1., 1.],\n",
      "        [1., 0., 1., 1.]])\n"
     ]
    }
   ],
   "execution_count": 67
  },
  {
   "metadata": {
    "ExecuteTime": {
     "end_time": "2024-08-21T15:33:48.289269Z",
     "start_time": "2024-08-21T15:33:48.285733Z"
    }
   },
   "cell_type": "code",
   "source": [
    "tensor.add_(5)\n",
    "print(tensor)"
   ],
   "id": "c07a459553a324c4",
   "outputs": [
    {
     "name": "stdout",
     "output_type": "stream",
     "text": [
      "tensor([[6., 5., 6., 6.],\n",
      "        [6., 5., 8., 6.],\n",
      "        [6., 5., 6., 6.],\n",
      "        [6., 5., 6., 6.]])\n"
     ]
    }
   ],
   "execution_count": 68
  },
  {
   "metadata": {
    "ExecuteTime": {
     "end_time": "2024-08-21T15:33:53.207084Z",
     "start_time": "2024-08-21T15:33:53.204052Z"
    }
   },
   "cell_type": "code",
   "source": [
    "tensor.sub_(5)\n",
    "print(tensor)"
   ],
   "id": "e2304bd391185921",
   "outputs": [
    {
     "name": "stdout",
     "output_type": "stream",
     "text": [
      "tensor([[1., 0., 1., 1.],\n",
      "        [1., 0., 3., 1.],\n",
      "        [1., 0., 1., 1.],\n",
      "        [1., 0., 1., 1.]])\n"
     ]
    }
   ],
   "execution_count": 69
  },
  {
   "metadata": {},
   "cell_type": "markdown",
   "source": "## Bridge with NumPy",
   "id": "5f8c23d8986adf0a"
  },
  {
   "metadata": {},
   "cell_type": "markdown",
   "source": "We can associate a Tensor with a NumPy array which means that they share the same memory location and changing one will change the other.",
   "id": "8b80e6e6840258c5"
  },
  {
   "metadata": {},
   "cell_type": "markdown",
   "source": "### Tensor to NumPy array",
   "id": "97abd74cb9dbcf02"
  },
  {
   "metadata": {
    "ExecuteTime": {
     "end_time": "2024-08-21T15:37:42.901465Z",
     "start_time": "2024-08-21T15:37:42.897284Z"
    }
   },
   "cell_type": "code",
   "source": [
    "t = torch.ones((2,3,4,))\n",
    "print(t)"
   ],
   "id": "43d9ab9bd6b6314f",
   "outputs": [
    {
     "name": "stdout",
     "output_type": "stream",
     "text": [
      "tensor([[[1., 1., 1., 1.],\n",
      "         [1., 1., 1., 1.],\n",
      "         [1., 1., 1., 1.]],\n",
      "\n",
      "        [[1., 1., 1., 1.],\n",
      "         [1., 1., 1., 1.],\n",
      "         [1., 1., 1., 1.]]])\n"
     ]
    }
   ],
   "execution_count": 82
  },
  {
   "metadata": {
    "ExecuteTime": {
     "end_time": "2024-08-21T15:37:43.146416Z",
     "start_time": "2024-08-21T15:37:43.143079Z"
    }
   },
   "cell_type": "code",
   "source": [
    "n = t.numpy()\n",
    "print(n)"
   ],
   "id": "b21173480b95f6d9",
   "outputs": [
    {
     "name": "stdout",
     "output_type": "stream",
     "text": [
      "[[[1. 1. 1. 1.]\n",
      "  [1. 1. 1. 1.]\n",
      "  [1. 1. 1. 1.]]\n",
      "\n",
      " [[1. 1. 1. 1.]\n",
      "  [1. 1. 1. 1.]\n",
      "  [1. 1. 1. 1.]]]\n"
     ]
    }
   ],
   "execution_count": 83
  },
  {
   "metadata": {
    "ExecuteTime": {
     "end_time": "2024-08-21T15:37:43.434815Z",
     "start_time": "2024-08-21T15:37:43.431462Z"
    }
   },
   "cell_type": "code",
   "source": [
    "t.add_(1)\n",
    "print(n)"
   ],
   "id": "eb647e0102fdcc0",
   "outputs": [
    {
     "name": "stdout",
     "output_type": "stream",
     "text": [
      "[[[2. 2. 2. 2.]\n",
      "  [2. 2. 2. 2.]\n",
      "  [2. 2. 2. 2.]]\n",
      "\n",
      " [[2. 2. 2. 2.]\n",
      "  [2. 2. 2. 2.]\n",
      "  [2. 2. 2. 2.]]]\n"
     ]
    }
   ],
   "execution_count": 84
  },
  {
   "metadata": {
    "ExecuteTime": {
     "end_time": "2024-08-21T15:37:45.315111Z",
     "start_time": "2024-08-21T15:37:45.311516Z"
    }
   },
   "cell_type": "code",
   "source": [
    "n[0,1]=7\n",
    "print(t)"
   ],
   "id": "47bb6ae3d909f403",
   "outputs": [
    {
     "name": "stdout",
     "output_type": "stream",
     "text": [
      "tensor([[[2., 2., 2., 2.],\n",
      "         [7., 7., 7., 7.],\n",
      "         [2., 2., 2., 2.]],\n",
      "\n",
      "        [[2., 2., 2., 2.],\n",
      "         [2., 2., 2., 2.],\n",
      "         [2., 2., 2., 2.]]])\n"
     ]
    }
   ],
   "execution_count": 85
  },
  {
   "metadata": {},
   "cell_type": "markdown",
   "source": "### NumPy array to Tensor",
   "id": "8b94f2e2d12ed97e"
  },
  {
   "metadata": {
    "ExecuteTime": {
     "end_time": "2024-08-21T15:40:24.321649Z",
     "start_time": "2024-08-21T15:40:24.318520Z"
    }
   },
   "cell_type": "code",
   "source": [
    "n = np.arange(12).reshape(-1,3,4)\n",
    "print(n)"
   ],
   "id": "d390cb13465c1832",
   "outputs": [
    {
     "name": "stdout",
     "output_type": "stream",
     "text": [
      "[[[ 0  1  2  3]\n",
      "  [ 4  5  6  7]\n",
      "  [ 8  9 10 11]]]\n"
     ]
    }
   ],
   "execution_count": 90
  },
  {
   "metadata": {
    "ExecuteTime": {
     "end_time": "2024-08-21T15:40:24.817213Z",
     "start_time": "2024-08-21T15:40:24.814066Z"
    }
   },
   "cell_type": "code",
   "source": [
    "t=torch.from_numpy(n)\n",
    "print(t)"
   ],
   "id": "8e3b4e9802eb6eb8",
   "outputs": [
    {
     "name": "stdout",
     "output_type": "stream",
     "text": [
      "tensor([[[ 0,  1,  2,  3],\n",
      "         [ 4,  5,  6,  7],\n",
      "         [ 8,  9, 10, 11]]], dtype=torch.int32)\n"
     ]
    }
   ],
   "execution_count": 91
  },
  {
   "metadata": {
    "ExecuteTime": {
     "end_time": "2024-08-21T15:40:25.443355Z",
     "start_time": "2024-08-21T15:40:25.439784Z"
    }
   },
   "cell_type": "code",
   "source": [
    "np.add(n,1,out=n)\n",
    "print(t)"
   ],
   "id": "80cbee53b912efbf",
   "outputs": [
    {
     "name": "stdout",
     "output_type": "stream",
     "text": [
      "tensor([[[ 1,  2,  3,  4],\n",
      "         [ 5,  6,  7,  8],\n",
      "         [ 9, 10, 11, 12]]], dtype=torch.int32)\n"
     ]
    }
   ],
   "execution_count": 92
  }
 ],
 "metadata": {
  "kernelspec": {
   "display_name": "Python 3",
   "language": "python",
   "name": "python3"
  },
  "language_info": {
   "codemirror_mode": {
    "name": "ipython",
    "version": 2
   },
   "file_extension": ".py",
   "mimetype": "text/x-python",
   "name": "python",
   "nbconvert_exporter": "python",
   "pygments_lexer": "ipython2",
   "version": "2.7.6"
  }
 },
 "nbformat": 4,
 "nbformat_minor": 5
}
