{
 "cells": [
  {
   "metadata": {},
   "cell_type": "markdown",
   "source": "# Optimization",
   "id": "fb8c2a6557555c6f"
  },
  {
   "metadata": {},
   "cell_type": "markdown",
   "source": "## Prerequisite Code",
   "id": "79461522031a1201"
  },
  {
   "metadata": {
    "ExecuteTime": {
     "end_time": "2024-08-25T13:19:20.072500Z",
     "start_time": "2024-08-25T13:19:13.175211Z"
    }
   },
   "cell_type": "code",
   "source": [
    "import torch\n",
    "from torch import nn\n",
    "from torch.utils.data import DataLoader\n",
    "from torchvision import datasets\n",
    "from torchvision.transforms import ToTensor\n",
    "\n",
    "training_data = datasets.FashionMNIST(\n",
    "    root=\"data\",\n",
    "    train=True,\n",
    "    download=False,\n",
    "    transform=ToTensor()\n",
    ")\n",
    "\n",
    "test_data = datasets.FashionMNIST(\n",
    "    root=\"data\",\n",
    "    train=False,\n",
    "    download=False,\n",
    "    transform=ToTensor()\n",
    ")\n",
    "\n",
    "train_dataloader = DataLoader(training_data, batch_size=64)\n",
    "test_dataloader = DataLoader(test_data, batch_size=64)\n",
    "\n",
    "class NeuralNetwork(nn.Module):\n",
    "    def __init__(self):\n",
    "        super().__init__()\n",
    "        self.flatten = nn.Flatten()\n",
    "        self.linear_relu_stack = nn.Sequential(\n",
    "            nn.Linear(28*28, 512),\n",
    "            nn.ReLU(),\n",
    "            nn.Linear(512, 512),\n",
    "            nn.ReLU(),\n",
    "            nn.Linear(512, 10),\n",
    "        )\n",
    "\n",
    "    def forward(self, x):\n",
    "        x = self.flatten(x)\n",
    "        logits = self.linear_relu_stack(x)\n",
    "        return logits\n",
    "\n",
    "model = NeuralNetwork()"
   ],
   "id": "f24126adc90dd1c",
   "outputs": [],
   "execution_count": 1
  },
  {
   "metadata": {},
   "cell_type": "markdown",
   "source": "## Hyperparameters",
   "id": "8ea719a0ef8b23c4"
  },
  {
   "metadata": {},
   "cell_type": "markdown",
   "source": [
    "When training a model, there are many hyperparameters that can be set. In this example, we'll define the following:\n",
    "- Number of Epochs - the number times to iterate over the dataset\n",
    "- Batch Size - the number of data samples seen by the model in each epoch\n",
    "- Learning Rate - how much to update models parameters at each batch/epoch. Smaller values yield slow learning speed, while large values may result in unpredictable behavior during training."
   ],
   "id": "3efe72f53c6317f1"
  },
  {
   "metadata": {
    "ExecuteTime": {
     "end_time": "2024-08-25T13:19:57.569409Z",
     "start_time": "2024-08-25T13:19:57.566528Z"
    }
   },
   "cell_type": "code",
   "source": [
    "learning_rate = 1e-3\n",
    "batch_size = 64\n",
    "epochs = 5"
   ],
   "id": "262959b8fcb2f30d",
   "outputs": [],
   "execution_count": 2
  },
  {
   "metadata": {},
   "cell_type": "markdown",
   "source": "## Optimization Loop",
   "id": "c664a97058f03c6d"
  },
  {
   "metadata": {},
   "cell_type": "markdown",
   "source": [
    "We will optimize our model with an optimization loop. Each iteration of the optimization loop is called an epoch.\n",
    "\n",
    "Each epoch consists of two main parts:\n",
    "- The Train Loop - iterate over the training dataset and try to converge to optimal parameters.\n",
    "- The Validation/Test Loop - iterate over the test dataset to check if model performance is improving."
   ],
   "id": "c4876da2c3c3a64f"
  },
  {
   "metadata": {},
   "cell_type": "markdown",
   "source": "### Loss Function\n",
   "id": "c9233c944c83277a"
  },
  {
   "metadata": {},
   "cell_type": "markdown",
   "source": [
    "Loss function returns the error of our model. It indicates how far the model's prediction is from the actual target.\n",
    "\n",
    "There are lots of loss functions available in the PyTorch library. For example, `nn.MSELoss` is used for regression tasks, and `nn.NLLLoss` is used for classification. `nn.CrossEntropyLoss` combines `nn.LogSoftmax` and `nn.NLLLoss`.\n",
    "\n",
    "Model's output logits are passed to `nn.CrossEntropyLoss`, which normalizes the logits and computes the prediction error."
   ],
   "id": "19db7c5e5e7e048a"
  },
  {
   "metadata": {
    "ExecuteTime": {
     "end_time": "2024-08-25T13:28:40.730114Z",
     "start_time": "2024-08-25T13:28:40.726669Z"
    }
   },
   "cell_type": "code",
   "source": "loss_fn = nn.CrossEntropyLoss()",
   "id": "8168559526c8f4da",
   "outputs": [],
   "execution_count": 3
  },
  {
   "metadata": {},
   "cell_type": "markdown",
   "source": "### Optimizer",
   "id": "1d13bf048430c73c"
  },
  {
   "metadata": {},
   "cell_type": "markdown",
   "source": [
    "After calculating the loss, we need to adjust the parameters of the model to minimize the error. This is done by the optimizer. All optimization logic is encapsulated in the optimizer object. In this case, we will use the SGD (Stochastic Gradient Descent) optimizer. There are other optimizers available in the PyTorch library, such as ADAM and RMSProp, that work better for different kinds of models and data.\n",
    "\n",
    "We initialize the optimizer by registering the model's parameters that need to be trained, and passing in the learning rate hyperparameter."
   ],
   "id": "a1f9bba8c323b71c"
  },
  {
   "metadata": {
    "ExecuteTime": {
     "end_time": "2024-08-25T13:35:36.903377Z",
     "start_time": "2024-08-25T13:35:36.899420Z"
    }
   },
   "cell_type": "code",
   "source": "optimizer = torch.optim.SGD(model.parameters(), lr=learning_rate)",
   "id": "fe3d00c74f4ed9d",
   "outputs": [],
   "execution_count": 6
  },
  {
   "metadata": {},
   "cell_type": "markdown",
   "source": [
    "The optimizer consists of the following steps:\n",
    "- Call `optimizer.zero_grad()` to reset the gradients of model parameters. Gradients by default add up; to prevent double-counting, we explicitly zero them at each iteration.\n",
    "- Backpropagate the prediction loss with a call to `loss.backwards()`. PyTorch deposits the gradients of the loss w.r.t. each parameter.\n",
    "- Once we have our gradients, we call `optimizer.step()` to adjust the parameters by the gradients collected in the backward pass."
   ],
   "id": "6daa7d8fad37ce00"
  },
  {
   "metadata": {},
   "cell_type": "markdown",
   "source": "## Full Implementation",
   "id": "73a210476f336975"
  },
  {
   "metadata": {},
   "cell_type": "markdown",
   "source": "Let's implement `train_loop` and `test_loop` functions to train the model. The `train_loop` iterates over the training dataset and updates the model parameters for each batch. The `test_loop` iterates over the test dataset and evaluates the model's performance. We'll log the model's loss and accuracy in each epoch.",
   "id": "9e41b61465040b0d"
  },
  {
   "metadata": {
    "ExecuteTime": {
     "end_time": "2024-08-25T13:35:40.734899Z",
     "start_time": "2024-08-25T13:35:40.728733Z"
    }
   },
   "cell_type": "code",
   "source": [
    "def train_loop(dataloader, model, loss_fn, optimizer):\n",
    "    size = len(dataloader.dataset)\n",
    "    # Set the model to training mode - important for batch normalization and dropout layers\n",
    "    # Unnecessary in this situation but added for best practices\n",
    "    model.train()\n",
    "    for batch, (X, y) in enumerate(dataloader):\n",
    "        # Compute prediction and loss\n",
    "        pred = model(X)\n",
    "        loss = loss_fn(pred, y)\n",
    "\n",
    "        # Backpropagation\n",
    "        loss.backward()\n",
    "        optimizer.step()\n",
    "        optimizer.zero_grad()\n",
    "\n",
    "        if batch % 100 == 0:\n",
    "            loss, current = loss.item(), batch * batch_size + len(X)\n",
    "            print(f\"loss: {loss:>7f}  [{current:>5d}/{size:>5d}]\")\n",
    "\n",
    "\n",
    "def test_loop(dataloader, model, loss_fn):\n",
    "    # Set the model to evaluation mode - important for batch normalization and dropout layers\n",
    "    # Unnecessary in this situation but added for best practices\n",
    "    model.eval()\n",
    "    size = len(dataloader.dataset)\n",
    "    num_batches = len(dataloader)\n",
    "    test_loss, correct = 0, 0\n",
    "\n",
    "    # Evaluating the model with torch.no_grad() ensures that no gradients are computed during test mode\n",
    "    # also serves to reduce unnecessary gradient computations and memory usage for tensors with requires_grad=True\n",
    "    with torch.no_grad():\n",
    "        for X, y in dataloader:\n",
    "            pred = model(X)\n",
    "            test_loss += loss_fn(pred, y).item()\n",
    "            correct += (pred.argmax(1) == y).type(torch.float).sum().item()\n",
    "\n",
    "    test_loss /= num_batches\n",
    "    correct /= size\n",
    "    print(f\"Test Error: \\n Accuracy: {(100*correct):>0.1f}%, Avg loss: {test_loss:>8f} \\n\")"
   ],
   "id": "ff0f3af767216cfb",
   "outputs": [],
   "execution_count": 7
  },
  {
   "metadata": {
    "ExecuteTime": {
     "end_time": "2024-08-25T13:36:07.256791Z",
     "start_time": "2024-08-25T13:35:41.522061Z"
    }
   },
   "cell_type": "code",
   "source": [
    "for t in range(epochs):\n",
    "    print(f\"Epoch {t+1}\\n-------------------------------\")\n",
    "    train_loop(train_dataloader, model, loss_fn, optimizer)\n",
    "    test_loop(test_dataloader, model, loss_fn)\n",
    "print(\"Done!\")"
   ],
   "id": "13a4db380a2941c3",
   "outputs": [
    {
     "name": "stdout",
     "output_type": "stream",
     "text": [
      "Epoch 1\n",
      "-------------------------------\n",
      "loss: 2.301469  [   64/60000]\n",
      "loss: 2.285230  [ 6464/60000]\n",
      "loss: 2.271366  [12864/60000]\n",
      "loss: 2.266928  [19264/60000]\n",
      "loss: 2.241690  [25664/60000]\n",
      "loss: 2.212071  [32064/60000]\n",
      "loss: 2.222191  [38464/60000]\n",
      "loss: 2.188137  [44864/60000]\n",
      "loss: 2.181123  [51264/60000]\n",
      "loss: 2.147171  [57664/60000]\n",
      "Test Error: \n",
      " Accuracy: 45.3%, Avg loss: 2.138286 \n",
      "\n",
      "Epoch 2\n",
      "-------------------------------\n",
      "loss: 2.155084  [   64/60000]\n",
      "loss: 2.138257  [ 6464/60000]\n",
      "loss: 2.078044  [12864/60000]\n",
      "loss: 2.097393  [19264/60000]\n",
      "loss: 2.046590  [25664/60000]\n",
      "loss: 1.980241  [32064/60000]\n",
      "loss: 2.009609  [38464/60000]\n",
      "loss: 1.928766  [44864/60000]\n",
      "loss: 1.927481  [51264/60000]\n",
      "loss: 1.853386  [57664/60000]\n",
      "Test Error: \n",
      " Accuracy: 53.6%, Avg loss: 1.848370 \n",
      "\n",
      "Epoch 3\n",
      "-------------------------------\n",
      "loss: 1.890868  [   64/60000]\n",
      "loss: 1.850506  [ 6464/60000]\n",
      "loss: 1.728421  [12864/60000]\n",
      "loss: 1.776289  [19264/60000]\n",
      "loss: 1.672329  [25664/60000]\n",
      "loss: 1.623960  [32064/60000]\n",
      "loss: 1.647435  [38464/60000]\n",
      "loss: 1.555861  [44864/60000]\n",
      "loss: 1.571251  [51264/60000]\n",
      "loss: 1.466926  [57664/60000]\n",
      "Test Error: \n",
      " Accuracy: 58.9%, Avg loss: 1.481759 \n",
      "\n",
      "Epoch 4\n",
      "-------------------------------\n",
      "loss: 1.555758  [   64/60000]\n",
      "loss: 1.515916  [ 6464/60000]\n",
      "loss: 1.363599  [12864/60000]\n",
      "loss: 1.445058  [19264/60000]\n",
      "loss: 1.331246  [25664/60000]\n",
      "loss: 1.330883  [32064/60000]\n",
      "loss: 1.346313  [38464/60000]\n",
      "loss: 1.282376  [44864/60000]\n",
      "loss: 1.302042  [51264/60000]\n",
      "loss: 1.210860  [57664/60000]\n",
      "Test Error: \n",
      " Accuracy: 62.6%, Avg loss: 1.230313 \n",
      "\n",
      "Epoch 5\n",
      "-------------------------------\n",
      "loss: 1.308244  [   64/60000]\n",
      "loss: 1.290323  [ 6464/60000]\n",
      "loss: 1.121249  [12864/60000]\n",
      "loss: 1.238251  [19264/60000]\n",
      "loss: 1.115644  [25664/60000]\n",
      "loss: 1.144224  [32064/60000]\n",
      "loss: 1.166856  [38464/60000]\n",
      "loss: 1.115330  [44864/60000]\n",
      "loss: 1.136619  [51264/60000]\n",
      "loss: 1.064718  [57664/60000]\n",
      "Test Error: \n",
      " Accuracy: 64.7%, Avg loss: 1.076974 \n",
      "\n",
      "Done!\n"
     ]
    }
   ],
   "execution_count": 8
  }
 ],
 "metadata": {
  "kernelspec": {
   "display_name": "Python 3",
   "language": "python",
   "name": "python3"
  },
  "language_info": {
   "codemirror_mode": {
    "name": "ipython",
    "version": 2
   },
   "file_extension": ".py",
   "mimetype": "text/x-python",
   "name": "python",
   "nbconvert_exporter": "python",
   "pygments_lexer": "ipython2",
   "version": "2.7.6"
  }
 },
 "nbformat": 4,
 "nbformat_minor": 5
}
