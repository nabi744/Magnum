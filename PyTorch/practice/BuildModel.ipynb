{
 "cells": [
  {
   "metadata": {},
   "cell_type": "markdown",
   "source": "# Build the Nerual Network",
   "id": "2b20c9362534447b"
  },
  {
   "metadata": {},
   "cell_type": "markdown",
   "source": [
    "`torch.nn` is a module that contains the building blocks for creating neural networks. A `torch.nn.Module` contains layers, and a method `forward(input)` that returns the `output`.\n",
    "\n",
    "We are going to make a model that will classify the image from FashionMNIST dataset."
   ],
   "id": "6cd5e8d6e9c54c5d"
  },
  {
   "metadata": {
    "ExecuteTime": {
     "end_time": "2024-08-24T18:25:35.290943Z",
     "start_time": "2024-08-24T18:25:32.299452Z"
    }
   },
   "cell_type": "code",
   "source": [
    "import os\n",
    "import torch\n",
    "from torch import nn\n",
    "from torch.utils.data import DataLoader\n",
    "from torchvision import datasets, transforms"
   ],
   "id": "157545788dc284c7",
   "outputs": [],
   "execution_count": 1
  },
  {
   "metadata": {},
   "cell_type": "markdown",
   "source": "## Device for Training",
   "id": "799626da0d9ab881"
  },
  {
   "metadata": {},
   "cell_type": "markdown",
   "source": "If your GPU(cuda) is available, you can use it for training. Otherwise, you can use CPU for training.",
   "id": "b7afca7b21945975"
  },
  {
   "metadata": {
    "ExecuteTime": {
     "end_time": "2024-08-24T18:26:29.742186Z",
     "start_time": "2024-08-24T18:26:29.712242Z"
    }
   },
   "cell_type": "code",
   "source": [
    "device = (\n",
    "    \"cuda\"\n",
    "    if torch.cuda.is_available()\n",
    "    else \"mps\"\n",
    "    if torch.backends.mps.is_available()\n",
    "    else \"cpu\"\n",
    ")\n",
    "print(f\"Using {device} device\")"
   ],
   "id": "2d57fe7a5c26a778",
   "outputs": [
    {
     "name": "stdout",
     "output_type": "stream",
     "text": [
      "Using cuda device\n"
     ]
    }
   ],
   "execution_count": 2
  },
  {
   "metadata": {},
   "cell_type": "markdown",
   "source": "## Define the Class",
   "id": "4b8de1158945c737"
  },
  {
   "metadata": {},
   "cell_type": "markdown",
   "source": "Subclass `nn.Module` to define the model and initialize the neural network layers by using `super().__init__()`.",
   "id": "84334fb413f5d27c"
  },
  {
   "metadata": {
    "ExecuteTime": {
     "end_time": "2024-08-24T18:31:23.447215Z",
     "start_time": "2024-08-24T18:31:23.443064Z"
    }
   },
   "cell_type": "code",
   "source": [
    "class NerualNetwork(nn.Module):\n",
    "    def __init__(self):\n",
    "        super().__init__()\n",
    "        self.flatten = nn.Flatten()\n",
    "        self.linear_relu_stack = nn.Sequential(\n",
    "            nn.Linear(28*28, 512),\n",
    "            nn.ReLU(),\n",
    "            nn.Linear(512, 512),\n",
    "            nn.ReLU(),\n",
    "            nn.Linear(512, 10),\n",
    "            nn.ReLU()\n",
    "        )\n",
    "    \n",
    "    def forward(self, x):\n",
    "        x = self.flatten(x)\n",
    "        logits = self.linear_relu_stack(x)\n",
    "        return logits"
   ],
   "id": "384b833b147c75f",
   "outputs": [],
   "execution_count": 3
  },
  {
   "metadata": {
    "ExecuteTime": {
     "end_time": "2024-08-24T18:31:34.491077Z",
     "start_time": "2024-08-24T18:31:34.379988Z"
    }
   },
   "cell_type": "code",
   "source": [
    "model = NerualNetwork().to(device)\n",
    "print(model)"
   ],
   "id": "ecc66229fcd365c4",
   "outputs": [
    {
     "name": "stdout",
     "output_type": "stream",
     "text": [
      "NerualNetwork(\n",
      "  (flatten): Flatten(start_dim=1, end_dim=-1)\n",
      "  (linear_relu_stack): Sequential(\n",
      "    (0): Linear(in_features=784, out_features=512, bias=True)\n",
      "    (1): ReLU()\n",
      "    (2): Linear(in_features=512, out_features=512, bias=True)\n",
      "    (3): ReLU()\n",
      "    (4): Linear(in_features=512, out_features=10, bias=True)\n",
      "    (5): ReLU()\n",
      "  )\n",
      ")\n"
     ]
    }
   ],
   "execution_count": 4
  },
  {
   "metadata": {},
   "cell_type": "markdown",
   "source": "The model is defined by the class `NerualNetwork`, which extends `nn.Module`. The class defines the layers of the network and the forward method. The `forward` method is the actual computation. It takes input data and passes it through the layers of the network in order.",
   "id": "79ad36e5ee827eee"
  },
  {
   "metadata": {
    "ExecuteTime": {
     "end_time": "2024-08-24T19:12:50.467580Z",
     "start_time": "2024-08-24T19:12:50.088685Z"
    }
   },
   "cell_type": "code",
   "source": [
    "X = torch.rand(1, 28, 28, device=device)\n",
    "logits = model(X)\n",
    "pred_probab = nn.Softmax(dim=1)(logits)\n",
    "y_pred = pred_probab.argmax(1)\n",
    "print(f\"Predicted class: {y_pred}\")"
   ],
   "id": "28a117d62acd198d",
   "outputs": [
    {
     "name": "stdout",
     "output_type": "stream",
     "text": [
      "Predicted class: tensor([6], device='cuda:0')\n"
     ]
    }
   ],
   "execution_count": 5
  },
  {
   "metadata": {},
   "cell_type": "markdown",
   "source": "## Model Layers",
   "id": "fd86d399c7db93bb"
  },
  {
   "metadata": {},
   "cell_type": "markdown",
   "source": "Minibatch of 3 images of size 28X28",
   "id": "34abfd0b8eba674f"
  },
  {
   "metadata": {
    "ExecuteTime": {
     "end_time": "2024-08-24T19:29:51.408948Z",
     "start_time": "2024-08-24T19:29:51.405727Z"
    }
   },
   "cell_type": "code",
   "source": [
    "input_image=torch.rand(3,28,28)\n",
    "print(input_image.size())"
   ],
   "id": "58b2ed4a17591368",
   "outputs": [
    {
     "name": "stdout",
     "output_type": "stream",
     "text": [
      "torch.Size([3, 28, 28])\n"
     ]
    }
   ],
   "execution_count": 7
  },
  {
   "metadata": {},
   "cell_type": "markdown",
   "source": "### nn.Flatten",
   "id": "331a2899915efbf3"
  },
  {
   "metadata": {},
   "cell_type": "markdown",
   "source": [
    "Makes input image of size `(3, 28, 28)` to `(3, 28*28)`\n",
    "flattens 2D image to 1D tensor"
   ],
   "id": "58aad09933586771"
  },
  {
   "metadata": {
    "ExecuteTime": {
     "end_time": "2024-08-24T19:30:01.798880Z",
     "start_time": "2024-08-24T19:30:01.794648Z"
    }
   },
   "cell_type": "code",
   "source": [
    "flatten = nn.Flatten()\n",
    "flat_image = flatten(input_image)\n",
    "print(flat_image.size())"
   ],
   "id": "66d3d74df9daa971",
   "outputs": [
    {
     "name": "stdout",
     "output_type": "stream",
     "text": [
      "torch.Size([3, 784])\n"
     ]
    }
   ],
   "execution_count": 8
  },
  {
   "metadata": {},
   "cell_type": "markdown",
   "source": "### nn.Linear",
   "id": "7d8cd8451a985b64"
  },
  {
   "metadata": {},
   "cell_type": "markdown",
   "source": "Linear layer applies linear transformation to the input using weights and biases.",
   "id": "aad4aa077a5f4192"
  },
  {
   "metadata": {
    "ExecuteTime": {
     "end_time": "2024-08-24T19:32:04.807212Z",
     "start_time": "2024-08-24T19:32:04.801297Z"
    }
   },
   "cell_type": "code",
   "source": [
    "layer1 = nn.Linear(in_features=28*28, out_features=20)\n",
    "hidden1=layer1(flat_image)\n",
    "print(hidden1.size())"
   ],
   "id": "bda9eea93b558ec4",
   "outputs": [
    {
     "name": "stdout",
     "output_type": "stream",
     "text": [
      "torch.Size([3, 20])\n"
     ]
    }
   ],
   "execution_count": 10
  },
  {
   "metadata": {},
   "cell_type": "markdown",
   "source": "### nn.ReLU",
   "id": "25338a5ebc8bb6f2"
  },
  {
   "metadata": {},
   "cell_type": "markdown",
   "source": "Non-linear activation function that is applied to the output of linear layer.",
   "id": "63288bf1b85b4da1"
  },
  {
   "metadata": {
    "ExecuteTime": {
     "end_time": "2024-08-24T19:32:28.373923Z",
     "start_time": "2024-08-24T19:32:28.368316Z"
    }
   },
   "cell_type": "code",
   "source": [
    "print(f\"Before ReLU: {hidden1}\\n\\n\")\n",
    "hidden1 = nn.ReLU()(hidden1)\n",
    "print(f\"After ReLU: {hidden1}\")"
   ],
   "id": "ff952234a3edc485",
   "outputs": [
    {
     "name": "stdout",
     "output_type": "stream",
     "text": [
      "Before ReLU: tensor([[-0.4002, -0.1341, -0.0208, -0.5645,  0.1906,  0.2422,  0.4346, -0.2328,\n",
      "          0.0578, -0.0147,  0.0323,  0.0865, -0.1331, -0.6104, -0.1172,  0.1024,\n",
      "         -0.0350,  0.3996, -0.0200,  0.1878],\n",
      "        [ 0.3342,  0.1330, -0.0168, -0.3143,  0.0918,  0.0762,  0.2696, -0.4713,\n",
      "          0.2836,  0.2177, -0.1606, -0.0189,  0.0950, -0.6881, -0.2108, -0.0788,\n",
      "          0.1499,  0.0394, -0.0248, -0.1180],\n",
      "        [-0.1174, -0.0715,  0.0584, -0.4914, -0.1830,  0.1703,  0.4167, -0.0601,\n",
      "         -0.1321,  0.0018, -0.2493,  0.0330,  0.1562, -0.2690, -0.3354, -0.0751,\n",
      "         -0.2483, -0.0276,  0.0654,  0.0171]], grad_fn=<AddmmBackward0>)\n",
      "\n",
      "\n",
      "After ReLU: tensor([[0.0000, 0.0000, 0.0000, 0.0000, 0.1906, 0.2422, 0.4346, 0.0000, 0.0578,\n",
      "         0.0000, 0.0323, 0.0865, 0.0000, 0.0000, 0.0000, 0.1024, 0.0000, 0.3996,\n",
      "         0.0000, 0.1878],\n",
      "        [0.3342, 0.1330, 0.0000, 0.0000, 0.0918, 0.0762, 0.2696, 0.0000, 0.2836,\n",
      "         0.2177, 0.0000, 0.0000, 0.0950, 0.0000, 0.0000, 0.0000, 0.1499, 0.0394,\n",
      "         0.0000, 0.0000],\n",
      "        [0.0000, 0.0000, 0.0584, 0.0000, 0.0000, 0.1703, 0.4167, 0.0000, 0.0000,\n",
      "         0.0018, 0.0000, 0.0330, 0.1562, 0.0000, 0.0000, 0.0000, 0.0000, 0.0000,\n",
      "         0.0654, 0.0171]], grad_fn=<ReluBackward0>)\n"
     ]
    }
   ],
   "execution_count": 11
  },
  {
   "metadata": {},
   "cell_type": "markdown",
   "source": "### nn.Sequential",
   "id": "8ca058fc127d9985"
  },
  {
   "metadata": {},
   "cell_type": "markdown",
   "source": "`nn.Sequential` is an ordered container of modules. You can go through multiple layers by passing input to the `Sequential`.",
   "id": "2545252d5ca50b3e"
  },
  {
   "metadata": {
    "ExecuteTime": {
     "end_time": "2024-08-24T19:34:27.570838Z",
     "start_time": "2024-08-24T19:34:27.566333Z"
    }
   },
   "cell_type": "code",
   "source": [
    "seq_modules = nn.Sequential(\n",
    "    flatten,\n",
    "    layer1,\n",
    "    nn.ReLU(),\n",
    "    nn.Linear(20, 10)\n",
    ")\n",
    "input_image = torch.rand(3, 28, 28)\n",
    "logits = seq_modules(input_image)"
   ],
   "id": "c54d40fd6f03bfca",
   "outputs": [],
   "execution_count": 12
  },
  {
   "metadata": {},
   "cell_type": "markdown",
   "source": "### nn.Softmax",
   "id": "883ae32b0f69daa3"
  },
  {
   "metadata": {},
   "cell_type": "markdown",
   "source": "Legit is returned from the last linear layer of the neural network. Legit ",
   "id": "d3ca50bddea36ca"
  },
  {
   "metadata": {
    "ExecuteTime": {
     "end_time": "2024-08-24T19:46:21.650174Z",
     "start_time": "2024-08-24T19:46:21.641593Z"
    }
   },
   "cell_type": "code",
   "source": "logits.shape",
   "id": "e492c78dbe3f4655",
   "outputs": [
    {
     "data": {
      "text/plain": [
       "torch.Size([3, 10])"
      ]
     },
     "execution_count": 13,
     "metadata": {},
     "output_type": "execute_result"
    }
   ],
   "execution_count": 13
  },
  {
   "metadata": {
    "ExecuteTime": {
     "end_time": "2024-08-24T19:57:47.821655Z",
     "start_time": "2024-08-24T19:57:47.814217Z"
    }
   },
   "cell_type": "code",
   "source": [
    "softmax = nn.Softmax(dim=1)\n",
    "pred_probab = softmax(logits)\n",
    "pred_probab"
   ],
   "id": "fe8ffeac3d1d518e",
   "outputs": [
    {
     "data": {
      "text/plain": [
       "tensor([[0.1068, 0.0800, 0.0946, 0.1149, 0.1175, 0.1176, 0.0728, 0.0863, 0.1255,\n",
       "         0.0840],\n",
       "        [0.1107, 0.0875, 0.0951, 0.1015, 0.1170, 0.1041, 0.0822, 0.0952, 0.1224,\n",
       "         0.0843],\n",
       "        [0.1071, 0.0896, 0.1002, 0.0986, 0.1204, 0.1151, 0.0734, 0.0895, 0.1210,\n",
       "         0.0851]], grad_fn=<SoftmaxBackward0>)"
      ]
     },
     "execution_count": 14,
     "metadata": {},
     "output_type": "execute_result"
    }
   ],
   "execution_count": 14
  },
  {
   "metadata": {
    "ExecuteTime": {
     "end_time": "2024-08-24T20:06:03.974639Z",
     "start_time": "2024-08-24T20:06:03.970453Z"
    }
   },
   "cell_type": "code",
   "source": [
    "y_pred = pred_probab.argmax(1)\n",
    "y_pred"
   ],
   "id": "53b219b314606afd",
   "outputs": [
    {
     "data": {
      "text/plain": [
       "tensor([8, 8, 8])"
      ]
     },
     "execution_count": 16,
     "metadata": {},
     "output_type": "execute_result"
    }
   ],
   "execution_count": 16
  },
  {
   "metadata": {},
   "cell_type": "markdown",
   "source": "## Model Parameters",
   "id": "a6b57ee61298cf0e"
  },
  {
   "metadata": {},
   "cell_type": "markdown",
   "source": "Layers of the neural network have parameters (weights and biases) that can be optimized during training. You can track these parameters using `model.parameters()` or `model.named_parameters()` methods.",
   "id": "3ef7f6b68e0bf3b4"
  },
  {
   "metadata": {
    "ExecuteTime": {
     "end_time": "2024-08-24T20:09:43.888285Z",
     "start_time": "2024-08-24T20:09:43.883278Z"
    }
   },
   "cell_type": "code",
   "source": "print(\"Model structure: \", model, \"\\n\\n\")",
   "id": "514cc818d09dd6dc",
   "outputs": [
    {
     "name": "stdout",
     "output_type": "stream",
     "text": [
      "Model structure:  NerualNetwork(\n",
      "  (flatten): Flatten(start_dim=1, end_dim=-1)\n",
      "  (linear_relu_stack): Sequential(\n",
      "    (0): Linear(in_features=784, out_features=512, bias=True)\n",
      "    (1): ReLU()\n",
      "    (2): Linear(in_features=512, out_features=512, bias=True)\n",
      "    (3): ReLU()\n",
      "    (4): Linear(in_features=512, out_features=10, bias=True)\n",
      "    (5): ReLU()\n",
      "  )\n",
      ") \n",
      "\n",
      "\n"
     ]
    }
   ],
   "execution_count": 17
  },
  {
   "metadata": {
    "ExecuteTime": {
     "end_time": "2024-08-24T20:09:47.051673Z",
     "start_time": "2024-08-24T20:09:47.026445Z"
    }
   },
   "cell_type": "code",
   "source": [
    "for name, param in model.named_parameters():\n",
    "    print(f\"Layer: {name} | Size: {param.size()} | Values: {param[:2]} \\n\")"
   ],
   "id": "a030590ef6392ade",
   "outputs": [
    {
     "name": "stdout",
     "output_type": "stream",
     "text": [
      "Layer: linear_relu_stack.0.weight | Size: torch.Size([512, 784]) | Values: tensor([[ 0.0237, -0.0028, -0.0038,  ..., -0.0335,  0.0267,  0.0106],\n",
      "        [-0.0146,  0.0141, -0.0224,  ...,  0.0124, -0.0149, -0.0329]],\n",
      "       device='cuda:0', grad_fn=<SliceBackward0>) \n",
      "\n",
      "Layer: linear_relu_stack.0.bias | Size: torch.Size([512]) | Values: tensor([ 0.0052, -0.0355], device='cuda:0', grad_fn=<SliceBackward0>) \n",
      "\n",
      "Layer: linear_relu_stack.2.weight | Size: torch.Size([512, 512]) | Values: tensor([[ 0.0010,  0.0365,  0.0022,  ...,  0.0206,  0.0233, -0.0356],\n",
      "        [ 0.0019,  0.0159, -0.0084,  ...,  0.0079, -0.0004,  0.0151]],\n",
      "       device='cuda:0', grad_fn=<SliceBackward0>) \n",
      "\n",
      "Layer: linear_relu_stack.2.bias | Size: torch.Size([512]) | Values: tensor([-0.0411, -0.0052], device='cuda:0', grad_fn=<SliceBackward0>) \n",
      "\n",
      "Layer: linear_relu_stack.4.weight | Size: torch.Size([10, 512]) | Values: tensor([[-0.0439,  0.0076,  0.0346,  ..., -0.0124,  0.0384,  0.0367],\n",
      "        [ 0.0139, -0.0104, -0.0364,  ..., -0.0347,  0.0290, -0.0345]],\n",
      "       device='cuda:0', grad_fn=<SliceBackward0>) \n",
      "\n",
      "Layer: linear_relu_stack.4.bias | Size: torch.Size([10]) | Values: tensor([ 0.0288, -0.0037], device='cuda:0', grad_fn=<SliceBackward0>) \n",
      "\n"
     ]
    }
   ],
   "execution_count": 18
  }
 ],
 "metadata": {
  "kernelspec": {
   "display_name": "Python 3",
   "language": "python",
   "name": "python3"
  },
  "language_info": {
   "codemirror_mode": {
    "name": "ipython",
    "version": 2
   },
   "file_extension": ".py",
   "mimetype": "text/x-python",
   "name": "python",
   "nbconvert_exporter": "python",
   "pygments_lexer": "ipython2",
   "version": "2.7.6"
  }
 },
 "nbformat": 4,
 "nbformat_minor": 5
}
