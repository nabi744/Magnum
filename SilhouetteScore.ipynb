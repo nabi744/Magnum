{
 "cells": [
  {
   "metadata": {},
   "cell_type": "markdown",
   "source": [
    "#### Silhouette Score\n",
    "Silhouette Score is used to find the optimal number of clusters.  \n",
    "\n",
    "average distance between a point($i$) and all other points($j$) in the same cluster($C_I$):\n",
    "$$a(i) = \\frac{1}{|C_i| - 1} \\sum_{j \\in C_I, i \\neq j} ||i-j||$$\n",
    "minimum average distance between a point($i$) and all other points($j$) in the other cluster($C_J$):\n",
    "$$b(i) = \\min_{J\\neq I} \\frac{1}{|C_J|} \\sum_{j \\in C_J} ||i-j||$$\n",
    "silhouette score of a point($i$):\n",
    "$$s(i) = \n",
    "\\begin{cases} \\frac{b(i) - a(i)}{\\max(a(i), b(i))},\\mathrm{if} |C_I| > 1\\\\ 0,\\mathrm{if} |C_I| = 1 \\end{cases}$$\n",
    "$$s(i) \\in [-1, 1]$$\n",
    "silhouette score of a cluster:\n",
    "$$s(C) = \\frac{1}{|C|} \\sum_{i \\in C} s(i)$$\n",
    "$$s(C) \\in [-1, 1]$$\n",
    "silhouette score of the whole dataset:\n",
    "$$s = \\frac{1}{n} \\sum_{i=1}^{n} s(i)$$\n",
    "$$s \\in [-1, 1]$$\n",
    "\n",
    "The optimal number of clusters is the number of clusters that maximizes the silhouette score.  \n",
    "If the silhouette score is close to 1, the clusters are well apart from each other and clearly distinguished.  \n",
    "If the silhouette score is close to 0, the clusters are not well apart from each other.\n",
    "If the silhouette score of an individual point is close to 1, the point is well-matched to nearby clusters but not to the current cluster."
   ],
   "id": "3b421cf1c2f6da92"
  },
  {
   "cell_type": "code",
   "id": "initial_id",
   "metadata": {
    "collapsed": true,
    "ExecuteTime": {
     "end_time": "2024-08-18T10:31:56.860319Z",
     "start_time": "2024-08-18T10:31:56.048843Z"
    }
   },
   "source": [
    "import numpy as np\n",
    "\n",
    "def silhouette_score(X, labels):\n",
    "    n = len(X)\n",
    "    a = np.array([np.linalg.norm(X - X[i], axis=1)[labels == labels[i]].mean() for i in range(n)])\n",
    "    b = np.array([np.min([np.linalg.norm(X - X[i], axis=1)[labels == k].mean() for k in set(labels) - {labels[i]}]) for i in range(n)])\n",
    "    s = (b - a) / np.maximum(a, b)\n",
    "    return s.mean()"
   ],
   "outputs": [],
   "execution_count": 1
  }
 ],
 "metadata": {
  "kernelspec": {
   "display_name": "Python 3",
   "language": "python",
   "name": "python3"
  },
  "language_info": {
   "codemirror_mode": {
    "name": "ipython",
    "version": 2
   },
   "file_extension": ".py",
   "mimetype": "text/x-python",
   "name": "python",
   "nbconvert_exporter": "python",
   "pygments_lexer": "ipython2",
   "version": "2.7.6"
  }
 },
 "nbformat": 4,
 "nbformat_minor": 5
}
